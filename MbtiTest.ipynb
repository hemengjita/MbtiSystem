{
 "cells": [
  {
   "cell_type": "code",
   "execution_count": null,
   "outputs": [],
   "source": [
    "#测试环境Python 3.9.17\n",
    "!pip install scikit-learn==1.1.2   joblib==1.3.2    zhipuai==1.0.7 gradio==3.41.2"
   ],
   "metadata": {
    "collapsed": false,
    "ExecuteTime": {
     "start_time": "2023-08-29T13:12:13.135955Z",
     "end_time": "2023-08-29T13:12:17.906295Z"
    }
   }
  },
  {
   "cell_type": "code",
   "execution_count": null,
   "outputs": [
    {
     "name": "stderr",
     "output_type": "stream",
     "text": [
      "/var/folders/k6/_szdl4rn463c4j047zyfxsh00000gn/T/ipykernel_24752/831301133.py:53: GradioUnusedKwargWarning: You have unused kwarg parameters in Textbox, please remove them: {'readonly': True}\n",
      "  gr.Textbox(readonly=True, label=\"ChatGLM大语言模型针对你性格的诊断和建议\")\n"
     ]
    },
    {
     "name": "stdout",
     "output_type": "stream",
     "text": [
      "Running on local URL:  http://0.0.0.0:7865\n",
      "Running on public URL: https://1450ec174e9f27ab9f.gradio.live\n",
      "\n",
      "This share link expires in 72 hours. For free permanent hosting and GPU upgrades, run `gradio deploy` from Terminal to deploy to Spaces (https://huggingface.co/spaces)\n"
     ]
    },
    {
     "data": {
      "text/plain": "<IPython.core.display.HTML object>",
      "text/html": "<div><iframe src=\"https://1450ec174e9f27ab9f.gradio.live\" width=\"100%\" height=\"500\" allow=\"autoplay; camera; microphone; clipboard-read; clipboard-write;\" frameborder=\"0\" allowfullscreen></iframe></div>"
     },
     "metadata": {},
     "output_type": "display_data"
    }
   ],
   "source": [
    "import gradio as gr\n",
    "import joblib\n",
    "import zhipuai\n",
    "\n",
    "# 设置api_key\n",
    "zhipuai.api_key = \"40626c22a64b429a199b435c3ff0fdc6.suMoOFmzR9KTdEj1\"\n",
    "\n",
    "def chat_with_glm(prompt_input):\n",
    "    # 和大模型交互\n",
    "    response = zhipuai.model_api.invoke(\n",
    "        model=\"chatglm_std\",\n",
    "        prompt=[#可以自定义模型角色，认知\n",
    "            {\"content\": \"你好\", \"role\": \"user\"},\n",
    "            {\"content\": \"我是一个资深的mbti性格分析师\", \"role\": \"assistant\"},\n",
    "            {\"content\": \"你叫什么名字\", \"role\": \"user\"},\n",
    "            {\"content\": \"我叫chatGLM\", \"role\": \"assistant\"},\n",
    "            {\"content\": prompt_input, \"role\": \"user\"}\n",
    "        ]\n",
    "    )\n",
    "    # 返回大模型的回复\n",
    "    return response[\"data\"][\"choices\"][0][\"content\"]\n",
    "\n",
    "gr.close_all()\n",
    "# 加载保存的对象\n",
    "model = joblib.load('model.pkl')\n",
    "vectorizer = joblib.load('vectorizer.pkl')\n",
    "label_encoder = joblib.load('label_encoder.pkl')\n",
    "\n",
    "def mbti_predict(x, y, z, w):\n",
    "    combined_text = f\"{x}. {y}. {z}. {w}\"\n",
    "    sample_vectorized = vectorizer.transform([combined_text])\n",
    "    prediction = model.predict(sample_vectorized)\n",
    "    label = label_encoder.inverse_transform(prediction)[0]\n",
    "    image_path = \"images/{}.png\".format(prediction[0])\n",
    "    mbti_prompt=\"我的mbti性格类别是\"+label+\"您建议我在日常生活中需要注意些什么？\"#我希望拿到预测标签的对应的mbti类型，然后组成成promp输入给大模型，\n",
    "    glm_response = chat_with_glm(mbti_prompt)  # 调用上面的方法与大模型交互\n",
    "    # 将字符串中的 \\n 替换为真正的换行\n",
    "    formatted_response = glm_response.replace(\"\\\\n\", \"\\n\")\n",
    "    return image_path, formatted_response\n",
    "\n",
    "# 定义Gradio界面\n",
    "interface = gr.Interface(\n",
    "    fn=mbti_predict,\n",
    "    inputs=[\n",
    "        gr.Textbox(lines=1, placeholder=\"e.g. 我在社交场合中感到很舒适，喜欢与人交往。｜我感到有些紧张，更倾向于观察。\", label=\"你在社交场合中通常感到如何？\"),\n",
    "        gr.Textbox(lines=1, placeholder=\"e.g. 我基于事实和细节来做决策。｜我依赖直觉和大局观来做决策。\", label=\"当面对决策时，你更倾向于如何考虑？\"),\n",
    "        gr.Textbox(lines=1, placeholder=\"e.g. 我喜欢有计划并且坚持日常计划。｜我不太喜欢计划，更倾向于随性。\", label=\"你如何看待日常规划和组织？\"),\n",
    "        gr.Textbox(lines=1, placeholder=\"e.g. 我会逻辑地分析事实，试图说服他人。｜我通常会考虑他人的感受，寻求共识。\", label=\"当与他人争论时，你更倾向于如何反应？\"),\n",
    "        # gr.Textbox(lines=1, placeholder=\"这里可以咨询大模型，与大模型进行聊天\", label=\"与大模型交互\")\n",
    "    ],\n",
    "    outputs=[\n",
    "        gr.Image(type=\"pil\", label=\"MBTI性格类型\"),\n",
    "        gr.Textbox(readonly=True, label=\"ChatGLM大语言模型针对你性格的诊断和建议\")\n",
    "    ],\n",
    "    title=\"MBTI性格测试系统\",\n",
    "    description=\"回答以下四个问题来获取您的MBTI性格类型，同时获得大模型给出的诊断建议\",\n",
    "    allow_flagging='never',\n",
    ")\n",
    "\n",
    "interface.launch(debug=True, server_name=\"0.0.0.0\", server_port=7865, share=True)\n"
   ],
   "metadata": {
    "collapsed": false,
    "ExecuteTime": {
     "start_time": "2023-08-29T20:46:37.698539Z",
     "end_time": "2023-08-29T20:46:52.431527Z"
    },
    "pycharm": {
     "is_executing": true
    }
   }
  },
  {
   "cell_type": "code",
   "execution_count": null,
   "outputs": [],
   "source": [],
   "metadata": {
    "collapsed": false
   }
  }
 ],
 "metadata": {
  "kernelspec": {
   "display_name": "Python 3",
   "language": "python",
   "name": "python3"
  },
  "language_info": {
   "codemirror_mode": {
    "name": "ipython",
    "version": 2
   },
   "file_extension": ".py",
   "mimetype": "text/x-python",
   "name": "python",
   "nbconvert_exporter": "python",
   "pygments_lexer": "ipython2",
   "version": "2.7.6"
  }
 },
 "nbformat": 4,
 "nbformat_minor": 0
}
