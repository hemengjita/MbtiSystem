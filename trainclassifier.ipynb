{
 "cells": [
  {
   "cell_type": "code",
   "execution_count": null,
   "outputs": [],
   "source": [
    "!pip install openpyxl pandas sklearn joblib"
   ],
   "metadata": {
    "collapsed": false
   }
  },
  {
   "cell_type": "code",
   "execution_count": 5,
   "outputs": [
    {
     "name": "stdout",
     "output_type": "stream",
     "text": [
      "0: ENFJ\n",
      "1: ENFP\n",
      "2: ENTJ\n",
      "3: ENTP\n",
      "4: ESFJ\n",
      "5: ESFP\n",
      "6: ESTJ\n",
      "7: ESTP\n",
      "8: INFJ\n",
      "9: INFP\n",
      "10: INTJ\n",
      "11: INTP\n",
      "12: ISFJ\n",
      "13: ISFP\n",
      "14: ISTJ\n",
      "15: ISTP\n"
     ]
    },
    {
     "data": {
      "text/plain": "['label_encoder.pkl']"
     },
     "execution_count": 5,
     "metadata": {},
     "output_type": "execute_result"
    }
   ],
   "source": [
    "#逻辑回归分类器训练代码\n",
    "import pandas as pd\n",
    "from sklearn.feature_extraction.text import TfidfVectorizer#将文本数据转换为数字形式的工具，通过 TF-IDF (Term Frequency-Inverse Document Frequency) 的方式。\n",
    "from sklearn.linear_model import LogisticRegression\n",
    "from sklearn.preprocessing import LabelEncoder#导入 LabelEncoder，它用于将字符串标签转换为数字形式\n",
    "import joblib\n",
    "\n",
    "# 读取数据\n",
    "data = pd.read_excel('train.xlsx')\n",
    "\n",
    "# 使用TF-IDF将文本转换为数字\n",
    "vectorizer = TfidfVectorizer(max_features=1000)#创建一个 TF-IDF 向量化器对象，并设置最大特征数为 1000\n",
    "X = vectorizer.fit_transform(data.iloc[:, 0:4].apply(lambda x: ' '.join(x), axis=1))#用 TF-IDF 向量化器转换数据集的前四列的文本数据，并将它们合并成单一的字符串。这将为每一个数据行产生一个数字向量。\n",
    "y = data['MBTI类型']#取出预测目标标签\n",
    "\n",
    "# 将预测标签转换为数字0-15\n",
    "label_encoder = LabelEncoder()\n",
    "y_encoded = label_encoder.fit_transform(y)\n",
    "#查看编码顺序\n",
    "mbti_labels = label_encoder.classes_\n",
    "for idx, label in enumerate(mbti_labels):\n",
    "    print(f\"{idx}: {label}\")\n",
    "# 创建并训练逻辑回归模型\n",
    "model = LogisticRegression(solver='liblinear')\n",
    "\n",
    "model.fit(X, y_encoded)\n",
    "\n",
    "# 使用 joblib 保存逻辑回归模型、TF-IDF 向量化器和标签编码器到对应的 .pkl 文件\n",
    "joblib.dump(model, 'model.pkl')#模型参数\n",
    "joblib.dump(vectorizer, 'vectorizer.pkl')#特征向量化编码文件\n",
    "joblib.dump(label_encoder, 'label_encoder.pkl')#预测标签编码文件\n"
   ],
   "metadata": {
    "collapsed": false
   }
  }
 ],
 "metadata": {
  "kernelspec": {
   "display_name": "Python 3",
   "language": "python",
   "name": "python3"
  },
  "language_info": {
   "codemirror_mode": {
    "name": "ipython",
    "version": 2
   },
   "file_extension": ".py",
   "mimetype": "text/x-python",
   "name": "python",
   "nbconvert_exporter": "python",
   "pygments_lexer": "ipython2",
   "version": "2.7.6"
  }
 },
 "nbformat": 4,
 "nbformat_minor": 0
}
